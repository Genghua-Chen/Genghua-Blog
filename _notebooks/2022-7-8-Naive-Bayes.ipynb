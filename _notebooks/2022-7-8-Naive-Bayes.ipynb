{
 "cells": [
  {
   "cell_type": "markdown",
   "metadata": {},
   "source": [
    "# Predicting Stock Change With Python\n",
    "> Scrapying, analyzing, and notificating stock change, inspired by this [blog](https://towardsdatascience.com/predicting-stock-prices-with-python-ec1d0c9bece1)\n",
    "- toc: true \n",
    "- badges: true\n",
    "- comments: true\n",
    "- author: Genghua Chen\n",
    "- annotations: true\n",
    "<!-- - image: https://g.foolcdn.com/editorial/images/663842/why-amzn-stock-is- -->\n",
    "- hide: false"
   ]
  },
  {
   "cell_type": "markdown",
   "metadata": {},
   "source": []
  },
  {
   "cell_type": "code",
   "execution_count": null,
   "metadata": {},
   "outputs": [],
   "source": []
  },
  {
   "cell_type": "code",
   "execution_count": 1,
   "metadata": {},
   "outputs": [],
   "source": [
    "%%capture \n",
    "print('hello world')"
   ]
  }
 ],
 "metadata": {
  "kernelspec": {
   "display_name": "Python 3.7.4 ('base')",
   "language": "python",
   "name": "python3"
  },
  "language_info": {
   "codemirror_mode": {
    "name": "ipython",
    "version": 3
   },
   "file_extension": ".py",
   "mimetype": "text/x-python",
   "name": "python",
   "nbconvert_exporter": "python",
   "pygments_lexer": "ipython3",
   "version": "3.7.4"
  },
  "orig_nbformat": 4,
  "vscode": {
   "interpreter": {
    "hash": "cc8ec5a4a564fb5001075d1b69bd0fab6e4c7967725783b97451713cbf5ce9b7"
   }
  }
 },
 "nbformat": 4,
 "nbformat_minor": 2
}
